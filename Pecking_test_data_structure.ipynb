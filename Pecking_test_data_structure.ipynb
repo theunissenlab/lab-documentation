{
 "cells": [
  {
   "cell_type": "markdown",
   "metadata": {},
   "source": [
    "The data from a pecking test is all stored in a Block object. The Block object contains:\n",
    "**Attributes**\n",
    "- name: Name of the subject\n",
    "- date: Date of the block\n",
    "- start: Time the block started\n",
    "- filename: Should probably be an annotation. Denotes the original data file that was imported.\n",
    "- data: pandas DataFrame object with index of Time and columns of\n",
    "    - Session: session number for the day\n",
    "    - Trial: trial number within the session\n",
    "    - Stimulus: stimulus wavefile path\n",
    "    - Class: stimulus condition\n",
    "    - Response: True or False, whether or not there was a response (i.e. peck)\n",
    "    - Correct: True or False, whether the response was correct\n",
    "    - RT: Response time (s) if there was a response\n",
    "    - Reward: True or False, whether or not a reward was supplied\n",
    "    - Max Wait: The max wait time for a response"
   ]
  }
 ],
 "metadata": {
  "kernelspec": {
   "display_name": "Python 2",
   "language": "python",
   "name": "python2"
  },
  "language_info": {
   "codemirror_mode": {
    "name": "ipython",
    "version": 2
   },
   "file_extension": ".py",
   "mimetype": "text/x-python",
   "name": "python",
   "nbconvert_exporter": "python",
   "pygments_lexer": "ipython2",
   "version": "2.7.9"
  }
 },
 "nbformat": 4,
 "nbformat_minor": 0
}
