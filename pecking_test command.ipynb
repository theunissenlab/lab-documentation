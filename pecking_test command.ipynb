{
 "cells": [
  {
   "cell_type": "markdown",
   "metadata": {},
   "source": [
    "# `pecking_test` command"
   ]
  },
  {
   "cell_type": "markdown",
   "metadata": {},
   "source": [
    "`pecking_test` is a standalone python program that executes some common and useful commands for controlling the boxes and running experiments. The general structure of a command is: `pecking_test command box_number options`. `command` can be one of five different methods: `run`, `test`, `test_audio`, `calibrate`, `shutdown`. Each method has a corresponding set of options that change what it does. You can view the help by running `pecking_test --help` or the help for each command using `pecking_test command --help`."
   ]
  },
  {
   "cell_type": "markdown",
   "metadata": {},
   "source": [
    "```bash \n",
    "fet@chubbyninja:~$ pecking_test --help\n",
    "usage: pecking_test data [-h] [-d DATE] [-b BIRD]\n",
    "\n",
    "Quick pecking test data analysis\n",
    "\n",
    "optional arguments:\n",
    "  -h, --help            show this help message and exit\n",
    "  -d DATE, --date DATE  Date in the format of DD-MM-YY (e.g. 14-12-15) or one\n",
    "                        of \"today\" or \"yesterday\"\n",
    "  -b BIRD, --bird BIRD  Name of bird to check. If not specified, checks all\n",
    "                        birds for the specified date\n",
    "```"
   ]
  },
  {
   "cell_type": "markdown",
   "metadata": {},
   "source": [
    "## `pecking_test run`"
   ]
  },
  {
   "cell_type": "markdown",
   "metadata": {},
   "source": [
    "```bash\n",
    "fet@chubbyninja:~$ pecking_test run --help\n",
    "usage: pecking_test run [-h] [-c CONFIG] [-b BIRD] [-e EXPERIMENTER]\n",
    "                        [-o OUTPUTDIR]\n",
    "                        box\n",
    "\n",
    "Run a pecking test experiment\n",
    "\n",
    "positional arguments:\n",
    "  box                   Which box to run (e.g. 5)\n",
    "\n",
    "optional arguments:\n",
    "  -h, --help            show this help message and exit\n",
    "  -c CONFIG, --config CONFIG\n",
    "                        Path to a config file. Default\n",
    "                        /home/fet/Dropbox/pecking_test/configs/Box#.yaml\n",
    "  -b BIRD, --bird BIRD  Name of the subject. Default specified in config file\n",
    "  -e EXPERIMENTER, --experimenter EXPERIMENTER\n",
    "                        Name of the experimenter. Default specified in config\n",
    "                        file\n",
    "  -o OUTPUTDIR, --outputdir OUTPUTDIR\n",
    "                        Data output directory. Default specified in config\n",
    "                        file\n",
    "```"
   ]
  },
  {
   "cell_type": "code",
   "execution_count": null,
   "metadata": {
    "collapsed": true
   },
   "outputs": [],
   "source": [
    "# Run the pecking test using the default config\n",
    "pecking_test run 5\n",
    "\n",
    "# Use a specific config file\n",
    "pecking_test run 5 -c \"/path/to/config_file\"\n",
    "# or\n",
    "pecking_test run 5 --config \"/path/to/config_file\"\n",
    "\n",
    "# Specify the bird's name\n",
    "pecking_test run 5 -b \"BlaYel0208M\"\n",
    "# or\n",
    "pecking_test run 5 --bird \"BlaYel0208M\"\n",
    "\n",
    "# Specify the experimenter's name\n",
    "pecking_test run 5 -e \"Bird Whisperer\"\n",
    "# or\n",
    "pecking_test run 5 --experimenter \"Bird Whisperer\"\n",
    "\n",
    "# Change the data directory\n",
    "pecking_test run 5 -o \"/path/to/data\"\n",
    "# or\n",
    "pecking_test run 5 --outputdir \"/path/to/data\""
   ]
  },
  {
   "cell_type": "markdown",
   "metadata": {},
   "source": [
    "The `run` command can be called with any of these options. This example uses Box \\#5 but any box will work. The configuration file should be a YAML file formatted like the default configuration from pyoperant. The default configuration file is given at \"/home/fet/Dropbox/configs/Box#.yaml\" on the pecking test computers. The `bird`, `experimenter` and `outputdir` overwrite values specified in the configuration file. This way, you can use the same configuration file for all birds that are performing a task just by specifying their name using the `--bird` option."
   ]
  },
  {
   "cell_type": "markdown",
   "metadata": {},
   "source": [
    "## `pecking_test test`"
   ]
  },
  {
   "cell_type": "markdown",
   "metadata": {},
   "source": [
    "```bash\n",
    "fet@chubbyninja:~$ pecking_test test --help\n",
    "usage: pecking_test test [-h] [-s SOUND] box\n",
    "\n",
    "Test whether all components of a box are functioning. This will run through a\n",
    "quick check of all functions of the box.\n",
    "\n",
    "positional arguments:\n",
    "  box                   Which box to run (e.g. 5)\n",
    "\n",
    "optional arguments:\n",
    "  -h, --help            show this help message and exit\n",
    "  -s SOUND, --sound SOUND\n",
    "                        path to sound file to play\n",
    "```"
   ]
  },
  {
   "cell_type": "code",
   "execution_count": null,
   "metadata": {
    "collapsed": true
   },
   "outputs": [],
   "source": [
    "# Run the test protocol on the specified box\n",
    "pecking_test test 5\n",
    "\n",
    "# Can change the sound that is played using the -s option\n",
    "pecking_test test 5 -s \"/path/to/soundfile.wav\"\n",
    "# or\n",
    "pecking_test test 5 --sound \"/path/to/soundfile.wav\""
   ]
  },
  {
   "cell_type": "markdown",
   "metadata": {},
   "source": [
    "The `test` command runs through a simple check of all of the chamber elements. It makes the peck button flash, raises the feeder for five seconds, plays a sound, and then polls for pecking input from the peck button for 10 seconds. Run this at the start of a session to make sure everything is functioning properly. This is especially useful if the boxes haven't been used for a little while."
   ]
  },
  {
   "cell_type": "markdown",
   "metadata": {},
   "source": [
    "## `pecking_test test_audio`"
   ]
  },
  {
   "cell_type": "markdown",
   "metadata": {},
   "source": [
    "```bash\n",
    "fet@chubbyninja:~$ pecking_test test_audio --help\n",
    "usage: pecking_test test_audio [-h] [-s SOUND] [--repeat] box\n",
    "\n",
    "Test just the audio of a box. This can be used to calibrate the sound level of\n",
    "the box. It will use the default sound unless provided and can be made to loop\n",
    "the sound using the --repeat option.\n",
    "\n",
    "positional arguments:\n",
    "  box                   Which box to run (e.g. 5)\n",
    "\n",
    "optional arguments:\n",
    "  -h, --help            show this help message and exit\n",
    "  -s SOUND, --sound SOUND\n",
    "                        path to sound file to play\n",
    "  --repeat              loop the sound\n",
    "```"
   ]
  },
  {
   "cell_type": "code",
   "execution_count": null,
   "metadata": {
    "collapsed": true
   },
   "outputs": [],
   "source": [
    "# Test audio output on the specified box\n",
    "pecking_test test_audio 5\n",
    "\n",
    "# Use a specific sound\n",
    "pecking_test test_audio 5 -s \"/path/to/soundfile.wav\"\n",
    "# or\n",
    "pecking_test test_audio 5 --sound \"/path/to/soundfile.wav\"\n",
    "\n",
    "# Loop the sound\n",
    "pecking_test test_audio 5 --repeat"
   ]
  },
  {
   "cell_type": "markdown",
   "metadata": {},
   "source": [
    "The `test_audio` command plays the default sound file just to make sure the audio is working. You can change the file played using the optional argument `--sound` and tell it to loop the sound using the optional argument `--repeat`. Looping the sound can be really useful for calibrating the sound level within the chamber."
   ]
  },
  {
   "cell_type": "markdown",
   "metadata": {},
   "source": [
    "## `pecking_test calibrate`"
   ]
  },
  {
   "cell_type": "markdown",
   "metadata": {},
   "source": [
    "```bash\n",
    "fet@chubbyninja:~$ pecking_test calibrate --help\n",
    "usage: pecking_test calibrate [-h] box\n",
    "\n",
    "Calibrate the pecking key of a box. This will flash the button and print a\n",
    "timestamp to the console every time the pecking key is pressed.\n",
    "\n",
    "positional arguments:\n",
    "  box         Which box to run (e.g. 5)\n",
    "\n",
    "optional arguments:\n",
    "  -h, --help  show this help message and exit\n",
    "```"
   ]
  },
  {
   "cell_type": "code",
   "execution_count": null,
   "metadata": {
    "collapsed": true
   },
   "outputs": [],
   "source": [
    "# Calibrate the peck button in Box 5\n",
    "pecking_test calibrate 5"
   ]
  },
  {
   "cell_type": "markdown",
   "metadata": {},
   "source": [
    "The `calibrate` command flashes the peck button and prints a timestamp to the terminal everytime the button is pressed. This is designed for calibrating the sensitivity of the button. Make it as sensitive as possible, up until the point that it triggers false alarms."
   ]
  },
  {
   "cell_type": "markdown",
   "metadata": {},
   "source": [
    "## `pecking_test shutdown`"
   ]
  },
  {
   "cell_type": "markdown",
   "metadata": {},
   "source": [
    "```bash\n",
    "fet@chubbyninja:~$ pecking_test shutdown --help\n",
    "usage: pecking_test shutdown [-h] box\n",
    "\n",
    "Shutdown a specified box\n",
    "\n",
    "positional arguments:\n",
    "  box         Which box to run (e.g. 5)\n",
    "\n",
    "optional arguments:\n",
    "  -h, --help  show this help message and exit\n",
    "```"
   ]
  },
  {
   "cell_type": "code",
   "execution_count": null,
   "metadata": {
    "collapsed": true
   },
   "outputs": [],
   "source": [
    "# Turn off Box 5\n",
    "pecking_test shutdown 5"
   ]
  },
  {
   "cell_type": "markdown",
   "metadata": {},
   "source": [
    "The `shutdown` method just turns off all elements in the box. It is only useful if the box was left in an odd state, perhaps if the experiment errored. It simply turns off all of the lights and lowers the feeder."
   ]
  },
  {
   "cell_type": "markdown",
   "metadata": {},
   "source": [
    "## `pecking_test data`"
   ]
  },
  {
   "cell_type": "markdown",
   "metadata": {},
   "source": [
    "```bash\n",
    "fet@chubbyninja:~$ pecking_test data --help\n",
    "usage: pecking_test data [-h] [-d DATE] [-b BIRD]\n",
    "\n",
    "Quick pecking test data analysis\n",
    "\n",
    "optional arguments:\n",
    "  -h, --help            show this help message and exit\n",
    "  -d DATE, --date DATE  Date in the format of DD-MM-YY (e.g. 14-12-15) or one\n",
    "                        of \"today\" or \"yesterday\"\n",
    "  -b BIRD, --bird BIRD  Name of bird to check. If not specified, checks all\n",
    "                        birds for the specified date\n",
    "```"
   ]
  },
  {
   "cell_type": "code",
   "execution_count": null,
   "metadata": {
    "collapsed": true
   },
   "outputs": [],
   "source": [
    "# Run peck_data on today's CSV files\n",
    "pecking_test data\n",
    "# or\n",
    "pecking_test data -d today\n",
    "# or\n",
    "pecking_test data --date today\n",
    "\n",
    "# Run on yesterday's CSV files\n",
    "pecking_test data -d yesterday\n",
    "\n",
    "# Run on the CSV files from October 12th, 2015\n",
    "pecking_test data -d 12-10-15\n",
    "\n",
    "# Run on all CSV files for GraGre4401M\n",
    "pecking_test data -b GraGre4401M\n",
    "# or\n",
    "pecking_test data --bird GraGre4401M"
   ]
  },
  {
   "cell_type": "markdown",
   "metadata": {},
   "source": [
    "## `pecking_test export`"
   ]
  },
  {
   "cell_type": "markdown",
   "metadata": {},
   "source": [
    "```bash\n",
    "fet@chubbyninja:~$ pecking_test export --help\n",
    "usage: pecking_test export [-h] [-d DATE] [-b BIRD] [-f FILENAME]\n",
    "                           [--overwrite]\n",
    "\n",
    "Export CSV files to h5 file\n",
    "\n",
    "optional arguments:\n",
    "  -h, --help            show this help message and exit\n",
    "  -d DATE, --date DATE  Date in the format of DD-MM-YY (e.g. 14-12-15) or one\n",
    "                        of \"today\" or \"yesterday\"\n",
    "  -b BIRD, --bird BIRD  Name of bird to check. If not specified, checks all\n",
    "                        birds for the specified date\n",
    "  -f FILENAME, --filename FILENAME\n",
    "                        Path to h5 file\n",
    "  --overwrite           Overwrite block in h5 file if it already exists\n",
    "```"
   ]
  },
  {
   "cell_type": "code",
   "execution_count": null,
   "metadata": {
    "collapsed": true
   },
   "outputs": [],
   "source": [
    "# Export today's CSV files\n",
    "pecking_test export\n",
    "# or \n",
    "pecking_test export -d today\n",
    "\n",
    "# Export to specific h5 file\n",
    "pecking_test export -f \"/path/to/h5file.h5\"\n",
    "# or\n",
    "pecking_test export --filename \"/path/to/h5file.h5\""
   ]
  }
 ],
 "metadata": {
  "kernelspec": {
   "display_name": "Python [Root]",
   "language": "python",
   "name": "Python [Root]"
  },
  "language_info": {
   "codemirror_mode": {
    "name": "ipython",
    "version": 2
   },
   "file_extension": ".py",
   "mimetype": "text/x-python",
   "name": "python",
   "nbconvert_exporter": "python",
   "pygments_lexer": "ipython2",
   "version": "2.7.12"
  }
 },
 "nbformat": 4,
 "nbformat_minor": 0
}
