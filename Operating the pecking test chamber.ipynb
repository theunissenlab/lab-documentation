{
 "cells": [
  {
   "cell_type": "markdown",
   "metadata": {},
   "source": [
    "# Operating the pecking test chamber"
   ]
  },
  {
   "cell_type": "markdown",
   "metadata": {},
   "source": [
    "This tutorial describes the essential commands for operating the pecking test chamber manually. The pecking test is run entirely using python code from the [pyoperant](https://github.com/gentnerlab/pyoperant) library. Every functional element of the pecking test chamber is abstracted into an equivalent python object. For our purposes, these are: \n",
    "    - Peck port: the button the birds peck. It receives input and can output a light signal.\n",
    "    - Feeder: self-explanatory. This can be raised and lowered to provide a reward.\n",
    "    - Speaker: the sound playback speaker\n",
    "    - Box: Groups all of the other elements together.\n",
    "We'll briefly go over all of the important details about each of these, including methods that make it easy to operate the chamber manually, e.g. when shaping a new bird. The peck port, feeder, and speaker are each accessed through the chamber's `Box` class, so that is the first thing that must be imported. All of the code below will be run in an `ipython` terminal, which can be opened by running `ipython` from a terminal window. The examples use `Box5`, so if you are running these commands for any other box, you'll have to change the number (e.g. `Box2`)."
   ]
  },
  {
   "cell_type": "code",
   "execution_count": null,
   "metadata": {
    "collapsed": false
   },
   "outputs": [],
   "source": [
    "# Change Box5 to Box2 or any other box, as needed.\n",
    "from pyoperant.tlab.local_tlab import Box5\n",
    "b = Box5() # Same here"
   ]
  },
  {
   "cell_type": "markdown",
   "metadata": {},
   "source": [
    "## Peck port"
   ]
  },
  {
   "cell_type": "markdown",
   "metadata": {},
   "source": [
    "The peck port's output light can be controlled in three ways:"
   ]
  },
  {
   "cell_type": "code",
   "execution_count": null,
   "metadata": {
    "collapsed": true
   },
   "outputs": [],
   "source": [
    "# Turn it on\n",
    "b.peck_port.on()"
   ]
  },
  {
   "cell_type": "code",
   "execution_count": null,
   "metadata": {
    "collapsed": true
   },
   "outputs": [],
   "source": [
    "# Turn it off\n",
    "b.peck_port.off()"
   ]
  },
  {
   "cell_type": "code",
   "execution_count": null,
   "metadata": {
    "collapsed": true
   },
   "outputs": [],
   "source": [
    "# Make it flash\n",
    "b.peck_port.flash()\n",
    "\n",
    "# Specify a duration and interval\n",
    "# Port will flash on-off 5 times, switching its value every 0.5 seconds\n",
    "b.peck_port.flash(dur=5, isi=0.5) "
   ]
  },
  {
   "cell_type": "markdown",
   "metadata": {},
   "source": [
    "The `flash` method takes two optional arguments:\n",
    "- `dur` (Duration of the light flash in seconds, default = 1.0 seconds)\n",
    "- `isi` (Time interval between toggles. (0.5 * period), default = 0.1 seconds)"
   ]
  },
  {
   "cell_type": "markdown",
   "metadata": {},
   "source": [
    "The peck port can be checked for a peck input using two methods:"
   ]
  },
  {
   "cell_type": "code",
   "execution_count": null,
   "metadata": {
    "collapsed": true
   },
   "outputs": [],
   "source": [
    "# Get the current status\n",
    "b.peck_port.status()"
   ]
  },
  {
   "cell_type": "code",
   "execution_count": null,
   "metadata": {
    "collapsed": true
   },
   "outputs": [],
   "source": [
    "# Poll until the port is pecked\n",
    "b.peck_port.poll()"
   ]
  },
  {
   "cell_type": "markdown",
   "metadata": {},
   "source": [
    "The `poll` method takes one optional argument:\n",
    "- `timeout` (The duration for which to poll in seconds, default is no timeout)"
   ]
  },
  {
   "cell_type": "markdown",
   "metadata": {},
   "source": [
    "## Feeder"
   ]
  },
  {
   "cell_type": "markdown",
   "metadata": {},
   "source": [
    "The feeder can be controlled in three ways:"
   ]
  },
  {
   "cell_type": "code",
   "execution_count": null,
   "metadata": {
    "collapsed": true
   },
   "outputs": [],
   "source": [
    "# Raise it\n",
    "b.feeder.up()"
   ]
  },
  {
   "cell_type": "code",
   "execution_count": null,
   "metadata": {
    "collapsed": true
   },
   "outputs": [],
   "source": [
    "# Lower it\n",
    "b.feeder.down()"
   ]
  },
  {
   "cell_type": "code",
   "execution_count": null,
   "metadata": {
    "collapsed": true
   },
   "outputs": [],
   "source": [
    "# Raise it for a specified duration, then lower it\n",
    "b.feeder.feed(10) # Raises the feeder for 10 seconds"
   ]
  },
  {
   "cell_type": "markdown",
   "metadata": {},
   "source": [
    "## Speaker"
   ]
  },
  {
   "cell_type": "markdown",
   "metadata": {},
   "source": [
    "This one's pretty simple. You can play a sound and stop a playing sound."
   ]
  },
  {
   "cell_type": "code",
   "execution_count": null,
   "metadata": {
    "collapsed": true
   },
   "outputs": [],
   "source": [
    "# Specify a .wav filename\n",
    "wav_filename = \"\"\n",
    "# First the sound must be queued\n",
    "b.speaker.queue(wav_filename)\n",
    "# Now play it\n",
    "b.speaker.play()"
   ]
  },
  {
   "cell_type": "code",
   "execution_count": null,
   "metadata": {
    "collapsed": true
   },
   "outputs": [],
   "source": [
    "# Stop a playing file\n",
    "b.speaker.stop()"
   ]
  },
  {
   "cell_type": "markdown",
   "metadata": {},
   "source": [
    "## Box"
   ]
  },
  {
   "cell_type": "markdown",
   "metadata": {},
   "source": [
    "The principal methods that you will want to use are `test`, `test_audio`, and `calibrate`."
   ]
  },
  {
   "cell_type": "code",
   "execution_count": null,
   "metadata": {
    "collapsed": true
   },
   "outputs": [],
   "source": [
    "# Test\n",
    "b.test()"
   ]
  },
  {
   "cell_type": "markdown",
   "metadata": {},
   "source": [
    "This runs through a simple check of all of the chamber elements. It makes the peck button flash, raises the feeder for five seconds, plays a sound, and then polls for pecking input from the peck button for 10 seconds. Run this at the start of a session to make sure everything is functioning properly."
   ]
  },
  {
   "cell_type": "code",
   "execution_count": null,
   "metadata": {
    "collapsed": true
   },
   "outputs": [],
   "source": [
    "# Test audio\n",
    "b.test_audio()\n",
    "\n",
    "# Calibrate sound level\n",
    "b.test_audio(repeat=True)"
   ]
  },
  {
   "cell_type": "markdown",
   "metadata": {},
   "source": [
    "This plays the default sound file just to make sure the audio is working. You can change the file using the optional argument `filename` and tell it to loop the sound using the optional argument `repeat`. Looping the sound can be really useful for calibrating the sound level within the chamber."
   ]
  },
  {
   "cell_type": "code",
   "execution_count": null,
   "metadata": {
    "collapsed": true
   },
   "outputs": [],
   "source": [
    "# Calibrate pecking button\n",
    "b.calibrate()"
   ]
  },
  {
   "cell_type": "markdown",
   "metadata": {},
   "source": [
    "This method flashes the peck button and prints a timestamp to the terminal everytime the button is pressed. This is designed for calibrating the sensitivity of the button. Make it as sensitive as possible, up until the point that it triggers false alarms."
   ]
  }
 ],
 "metadata": {
  "kernelspec": {
   "display_name": "Python 2",
   "language": "python",
   "name": "python2"
  },
  "language_info": {
   "codemirror_mode": {
    "name": "ipython",
    "version": 2
   },
   "file_extension": ".py",
   "mimetype": "text/x-python",
   "name": "python",
   "nbconvert_exporter": "python",
   "pygments_lexer": "ipython2",
   "version": "2.7.10"
  }
 },
 "nbformat": 4,
 "nbformat_minor": 0
}
